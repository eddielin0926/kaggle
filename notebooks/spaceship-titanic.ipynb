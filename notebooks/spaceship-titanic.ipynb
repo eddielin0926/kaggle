{
  "nbformat": 4,
  "nbformat_minor": 0,
  "metadata": {
    "colab": {
      "provenance": [],
      "toc_visible": true,
      "authorship_tag": "ABX9TyPmRy3ymyc4moKgasDvpmsJ",
      "include_colab_link": true
    },
    "kernelspec": {
      "name": "python3",
      "display_name": "Python 3"
    },
    "language_info": {
      "name": "python"
    }
  },
  "cells": [
    {
      "cell_type": "markdown",
      "metadata": {
        "id": "view-in-github",
        "colab_type": "text"
      },
      "source": [
        "<a href=\"https://colab.research.google.com/github/eddielin0926/kaggle/blob/main/notebooks/spaceship-titanic.ipynb\" target=\"_parent\"><img src=\"https://colab.research.google.com/assets/colab-badge.svg\" alt=\"Open In Colab\"/></a>"
      ]
    },
    {
      "cell_type": "markdown",
      "source": [
        "# [Competiton](https://www.kaggle.com/competitions)\n"
      ],
      "metadata": {
        "id": "obk3I27GlTXN"
      }
    },
    {
      "cell_type": "markdown",
      "source": [
        "## Preparation"
      ],
      "metadata": {
        "id": "P0nVd_hblbb4"
      }
    },
    {
      "cell_type": "code",
      "execution_count": null,
      "metadata": {
        "id": "PvpaiFK1jRIH"
      },
      "outputs": [],
      "source": [
        "! pip install --upgrade pip\n",
        "! pip install --upgrade kaggle flaml\n",
        "! pip install git+https://github.com/eddielin0926/myutils.git"
      ]
    },
    {
      "cell_type": "markdown",
      "source": [
        "Set environment variable for kaggle authentication from Colab Secrets."
      ],
      "metadata": {
        "id": "g6kroC8_lpK-"
      }
    },
    {
      "cell_type": "code",
      "source": [
        "import os\n",
        "from google.colab import userdata\n",
        "\n",
        "os.environ['KAGGLE_USERNAME'] = userdata.get('KAGGLE_USERNAME')\n",
        "os.environ['KAGGLE_KEY'] = userdata.get('KAGGLE_KEY')"
      ],
      "metadata": {
        "id": "T0Q-ylw0lndr"
      },
      "execution_count": null,
      "outputs": []
    },
    {
      "cell_type": "markdown",
      "source": [
        "Set competition name."
      ],
      "metadata": {
        "id": "LCKtSHlQlzUN"
      }
    },
    {
      "cell_type": "code",
      "source": [
        "COMPETITION = \"competition\""
      ],
      "metadata": {
        "id": "pfDD55oulq6G"
      },
      "execution_count": null,
      "outputs": []
    },
    {
      "cell_type": "markdown",
      "source": [
        "Download competition dataset."
      ],
      "metadata": {
        "id": "L9Tx0aVsl0Hy"
      }
    },
    {
      "cell_type": "code",
      "source": [
        "! mkdir -p data\n",
        "! kaggle competitions download -c {COMPETITION}\n",
        "! unzip -o {COMPETITION}.zip -d data"
      ],
      "metadata": {
        "id": "hHDImewYl1yT"
      },
      "execution_count": null,
      "outputs": []
    },
    {
      "cell_type": "markdown",
      "source": [
        "Import libraries."
      ],
      "metadata": {
        "id": "OW1dupYpl5r0"
      }
    },
    {
      "cell_type": "code",
      "source": [
        "import pandas as pd\n",
        "import numpy as np\n",
        "\n",
        "import myutils\n",
        "\n",
        "import matplotlib.pyplot as plt\n",
        "%matplotlib inline\n",
        "\n",
        "import seaborn as sns\n",
        "sns.set()\n",
        "\n",
        "import warnings\n",
        "warnings.filterwarnings(\"ignore\")"
      ],
      "metadata": {
        "id": "tEl8u_M2l8FA"
      },
      "execution_count": null,
      "outputs": []
    },
    {
      "cell_type": "markdown",
      "source": [
        "### Datasets"
      ],
      "metadata": {
        "id": "UZnCzb0RBENo"
      }
    },
    {
      "cell_type": "markdown",
      "source": [
        "Read training and testing dataset."
      ],
      "metadata": {
        "id": "OZW2eF5Pl93h"
      }
    },
    {
      "cell_type": "code",
      "source": [
        "df_train = pd.read_csv('./data/train.csv')\n",
        "df_test = pd.read_csv('./data/test.csv')"
      ],
      "metadata": {
        "id": "KhJorVF_mAnM"
      },
      "execution_count": null,
      "outputs": []
    },
    {
      "cell_type": "markdown",
      "source": [
        "### Parameters"
      ],
      "metadata": {
        "id": "76gY9iTP__EY"
      }
    },
    {
      "cell_type": "code",
      "source": [
        "ID = \"id\"\n",
        "TARGET = \"target\""
      ],
      "metadata": {
        "id": "A93-bbbo_-mh"
      },
      "execution_count": null,
      "outputs": []
    },
    {
      "cell_type": "markdown",
      "source": [
        "## Exploratory Data Analysis"
      ],
      "metadata": {
        "id": "U_F-LKhdmhTk"
      }
    },
    {
      "cell_type": "markdown",
      "source": [
        "### Train Dataset"
      ],
      "metadata": {
        "id": "tfTOn__smiqK"
      }
    },
    {
      "cell_type": "code",
      "source": [
        "display(df_train.shape)\n",
        "display(myutils.overview(df_train))"
      ],
      "metadata": {
        "id": "VUngGRjdmmRX"
      },
      "execution_count": null,
      "outputs": []
    },
    {
      "cell_type": "markdown",
      "source": [
        "### Test Dataset"
      ],
      "metadata": {
        "id": "JRab_RwMm3AL"
      }
    },
    {
      "cell_type": "code",
      "source": [
        "display(df_test.shape)\n",
        "display(myutils.overview(df_test))"
      ],
      "metadata": {
        "id": "Ma_kNF1mm425"
      },
      "execution_count": null,
      "outputs": []
    },
    {
      "cell_type": "markdown",
      "source": [
        "## Data Preprocessing"
      ],
      "metadata": {
        "id": "eaxviVMcnG_4"
      }
    },
    {
      "cell_type": "markdown",
      "source": [
        "### Encoding"
      ],
      "metadata": {
        "id": "f1-bmJEwnUVB"
      }
    },
    {
      "cell_type": "code",
      "source": [
        "from sklearn.preprocessing import LabelEncoder\n",
        "\n",
        "le = LabelEncoder()\n",
        "encode_cols = []\n",
        "for col in encode_cols:\n",
        "    df_train[col] = le.fit_transform(df_train[col])\n",
        "    df_test[col] = le.transform(df_test[col])\n",
        "    print('Encoding:', col, le.classes_)"
      ],
      "metadata": {
        "id": "Mpy6fB9znR_8"
      },
      "execution_count": null,
      "outputs": []
    },
    {
      "cell_type": "code",
      "source": [
        "train = pd.get_dummies(df_train.drop([], axis=1))\n",
        "test = pd.get_dummies(df_test.drop([], axis=1))"
      ],
      "metadata": {
        "id": "s67SpAzjoBVy"
      },
      "execution_count": null,
      "outputs": []
    },
    {
      "cell_type": "code",
      "source": [
        "drop_cols = []\n",
        "for col, corr in zip(train.corr()[TARGET].index, train.corr()[TARGET]):\n",
        "    if abs(corr) < 0.2:\n",
        "        drop_cols.append(col)\n",
        "print('Dropping cols:', drop_cols)\n",
        "train = train.drop(drop_cols, axis=1)\n",
        "test = test.drop(list(set(drop_cols) & set(test.columns)), axis=1)"
      ],
      "metadata": {
        "id": "88Pz1EJqpYc6"
      },
      "execution_count": null,
      "outputs": []
    },
    {
      "cell_type": "code",
      "source": [
        "plt.figure(figsize=(10, 10))\n",
        "sns.heatmap(train.corr(), annot=False, annot_kws={'size': 8}, vmin=-1, vmax=1, cmap='viridis')"
      ],
      "metadata": {
        "id": "P7oQopviAWrW"
      },
      "execution_count": null,
      "outputs": []
    },
    {
      "cell_type": "markdown",
      "source": [
        "## Training"
      ],
      "metadata": {
        "id": "5gldNGxmoP31"
      }
    },
    {
      "cell_type": "code",
      "source": [
        "from flaml import AutoML\n",
        "from sklearn.ensemble import GradientBoostingRegressor\n",
        "\n",
        "automl = AutoML()\n",
        "automl_settings = {\n",
        "    \"task\": \"classification\",\n",
        "    \"time_budget\": 120,\n",
        "    \"log_file_name\": f\"{COMPETITION}.log\",\n",
        "    \"estimator_list\": ['lgbm', 'xgboost', 'xgb_limitdepth', 'rf', 'extra_tree'],\n",
        "    \"metric\": \"ap\",\n",
        "    \"ensemble\": {\n",
        "        \"final_estimator\": GradientBoostingRegressor(),\n",
        "        \"passthrough\": True,\n",
        "    },\n",
        "}\n",
        "automl.fit(dataframe=train, label=\"Target\", **automl_settings)"
      ],
      "metadata": {
        "id": "SUJbeCVroRu-"
      },
      "execution_count": null,
      "outputs": []
    },
    {
      "cell_type": "code",
      "source": [
        "from pprint import pprint\n",
        "\n",
        "print('Best ML leaner:', automl.best_estimator)\n",
        "print(\"Best score:\", automl.score(train.drop([TARGET], axis=1), train[TARGET]))\n",
        "print('Best hyperparmeter config:')\n",
        "pprint(automl.best_config)"
      ],
      "metadata": {
        "id": "eXewE2A7ocdC"
      },
      "execution_count": null,
      "outputs": []
    },
    {
      "cell_type": "code",
      "source": [
        "from flaml.automl.data import get_output_from_log\n",
        "\n",
        "time_history, best_valid_loss_history, valid_loss_history, config_history, metric_history = \\\n",
        "    get_output_from_log(filename=automl_settings[\"log_file_name\"], time_budget=120)\n",
        "\n",
        "plt.title(\"Learning Curve\")\n",
        "plt.xlabel(\"Wall Clock Time (s)\")\n",
        "plt.ylabel(\"Validation Accuracy\")\n",
        "plt.step(time_history, 1 - np.array(best_valid_loss_history), where=\"post\")\n",
        "plt.show()"
      ],
      "metadata": {
        "id": "juMGeHpSoeNa"
      },
      "execution_count": null,
      "outputs": []
    },
    {
      "cell_type": "markdown",
      "source": [
        "## Submission"
      ],
      "metadata": {
        "id": "mztf9gx_ogsF"
      }
    },
    {
      "cell_type": "code",
      "source": [
        "predicted = automl.predict(test)\n",
        "submission = pd.DataFrame({ID: df_test[ID], TARGET: predicted})\n",
        "submission.to_csv('./submission.csv', index=False)\n",
        "submission.head()"
      ],
      "metadata": {
        "id": "HVE7bbtioi7F"
      },
      "execution_count": null,
      "outputs": []
    },
    {
      "cell_type": "code",
      "source": [
        "! kaggle competitions submit -c {COMPETITION} -f submission.csv -m \"First try\""
      ],
      "metadata": {
        "id": "FwNH0W26olZK"
      },
      "execution_count": null,
      "outputs": []
    },
    {
      "cell_type": "code",
      "source": [
        "! kaggle competitions submissions {COMPETITION}"
      ],
      "metadata": {
        "id": "lLfKkxvjoyEY"
      },
      "execution_count": null,
      "outputs": []
    },
    {
      "cell_type": "markdown",
      "source": [
        "## Reference"
      ],
      "metadata": {
        "id": "-dKobl7xH66g"
      }
    }
  ]
}